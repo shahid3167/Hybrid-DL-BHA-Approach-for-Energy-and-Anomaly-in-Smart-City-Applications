{
 "cells": [
  {
   "cell_type": "code",
   "execution_count": 136,
   "id": "7ab6fa16",
   "metadata": {},
   "outputs": [],
   "source": [
    "# --- Required Libraries ---\n",
    "import numpy as np                            # For numerical computations\n",
    "import pandas as pd                          # For handling datasets\n",
    "import random                                 # For generating random numbers\n",
    "\n",
    "# --- For Visualizations (Data analysis) ---\n",
    "import matplotlib.pyplot as plt               # For creating basic plots and graphs\n",
    "import seaborn as sns                        # For enhanced visualizations (e.g., heatmaps, pairplots)\n",
    "from matplotlib.lines import Line2D           # For advanced plotting (e.g., legends with custom lines)\n",
    "\n",
    "# --- For Statistical Description (Descriptive statistics and statistical analysis) ---\n",
    "import scipy.stats as stats                  # For statistical functions like skew, kurtosis\n",
    "from sklearn.preprocessing import MinMaxScaler # For scaling and normalization\n",
    "\n",
    "# --- For Preprocessing (Data cleaning, encoding, balancing, etc.) ---\n",
    "from sklearn.model_selection import train_test_split # For splitting datasets into train, validation, and test sets\n",
    "from sklearn.preprocessing import LabelEncoder           # For encoding categorical variables into numeric labels\n",
    "from sklearn.impute import SimpleImputer                # For handling missing values (mean/median imputation)\n",
    "from sklearn.utils import resample                      # For up/down sampling the dataset\n",
    "\n",
    "# --- For LSTM (Deep Learning) (Model building and training) ---\n",
    "import tensorflow as tf                             # TensorFlow for building and training deep learning models\n",
    "from tensorflow.keras.models import Sequential      # For creating sequential models\n",
    "from tensorflow.keras.models import Model           # For using the functional API to build models\n",
    "from tensorflow.keras.layers import Input, LSTM, Dense, Dropout, Bidirectional # For LSTM layers and others\n",
    "from tensorflow.keras.optimizers import Adam        # Adam optimizer for model training\n",
    "from tensorflow.keras.callbacks import EarlyStopping # Early stopping to prevent overfitting\n",
    "\n",
    "# --- For Metrics (For evaluating model performance) ---\n",
    "from sklearn.metrics import mean_absolute_error, mean_squared_error, r2_score  # For regression evaluation metrics\n",
    "from sklearn.metrics import accuracy_score, precision_score, recall_score, f1_score, roc_auc_score, confusion_matrix  # For classification metrics\n"
   ]
  },
  {
   "cell_type": "code",
   "execution_count": null,
   "id": "2efa6b69",
   "metadata": {},
   "outputs": [],
   "source": []
  },
  {
   "cell_type": "code",
   "execution_count": 137,
   "id": "27a9784e",
   "metadata": {},
   "outputs": [
    {
     "name": "stdout",
     "output_type": "stream",
     "text": [
      "Descriptive Statistics for the Dataset:\n",
      "        uptime_hours  battery_capacity_mAh  energy_consumption_mAh  \\\n",
      "count  60000.000000          60000.000000            60000.000000   \n",
      "mean      11.571667           3004.149850              186.828537   \n",
      "std        6.920831           1153.084715              111.739189   \n",
      "min        0.000000           1000.000000                0.000000   \n",
      "25%        6.000000           2007.000000               96.872063   \n",
      "50%       12.000000           3010.000000              193.744126   \n",
      "75%       18.000000           3998.250000              290.616188   \n",
      "max       23.000000           4999.000000              371.342907   \n",
      "\n",
      "       temperature_C  humidity_percent  air_quality_index  motion_events  \\\n",
      "count   60000.000000      60000.000000       60000.000000   60000.000000   \n",
      "mean       24.992034         82.505883         248.967000      49.442550   \n",
      "std         5.768543          5.948904         144.015029      28.843315   \n",
      "min        15.000169         70.059592           0.000000       0.000000   \n",
      "25%        19.985221         77.511950         125.000000      24.000000   \n",
      "50%        25.021199         82.504570         249.000000      50.000000   \n",
      "75%        30.014652         87.531777         374.000000      74.000000   \n",
      "max        34.999841         94.902763         499.000000      99.000000   \n",
      "\n",
      "       light_intensity_lux  noise_level_dB  co2_emissions_ppm  wind_speed_m_s  \\\n",
      "count         60000.000000    60000.000000       60000.000000    60000.000000   \n",
      "mean            987.202198       60.018415         424.944253       10.015951   \n",
      "std             214.557285       17.310851          43.276061        5.772995   \n",
      "min             446.582415       30.000416         350.000477        0.000470   \n",
      "25%             832.684608       44.994008         387.474241        5.001606   \n",
      "50%             986.684596       60.079595         424.953524       10.044020   \n",
      "75%            1141.540886       74.987122         462.189540       15.012522   \n",
      "max            1527.870269       89.999624         499.995719       19.999662   \n",
      "\n",
      "       precipitation_mm_h  traffic_density_vehicles_h  \\\n",
      "count        60000.000000                60000.000000   \n",
      "mean             9.987846                   58.224679   \n",
      "std              5.791541                   38.365928   \n",
      "min              0.000126                   -9.995948   \n",
      "25%              4.950029                   24.953884   \n",
      "50%              9.997806                   58.335068   \n",
      "75%             15.022276                   91.500233   \n",
      "max             19.999740                  126.589906   \n",
      "\n",
      "       noise_pollution_level_dB       anomaly  \n",
      "count              60000.000000  60000.000000  \n",
      "mean                  77.677372      0.500183  \n",
      "std                   20.242577      0.500004  \n",
      "min                   40.049758      0.000000  \n",
      "25%                   60.236864      0.000000  \n",
      "50%                   77.657100      1.000000  \n",
      "75%                   95.147437      1.000000  \n",
      "max                  114.951187      1.000000  \n"
     ]
    }
   ],
   "source": [
    "# Load the dataset\n",
    "data = pd.read_csv('/Users/administrator/Desktop/All desktop-data/Dr.Ali/dataset/Dataset and Code/Dataset/iot_smart_city_dataset.csv')\n",
    "\n",
    "# Display descriptive statistics\n",
    "print(\"Descriptive Statistics for the Dataset:\\n\", data.describe())\n"
   ]
  },
  {
   "cell_type": "code",
   "execution_count": null,
   "id": "1d5155b7",
   "metadata": {},
   "outputs": [],
   "source": []
  },
  {
   "cell_type": "code",
   "execution_count": 138,
   "id": "c97adade",
   "metadata": {},
   "outputs": [
    {
     "name": "stdout",
     "output_type": "stream",
     "text": [
      "Index(['timestamp', 'device_id', 'device_type', 'uptime_hours',\n",
      "       'battery_capacity_mAh', 'energy_consumption_mAh', 'temperature_C',\n",
      "       'humidity_percent', 'air_quality_index', 'motion_events',\n",
      "       'light_intensity_lux', 'noise_level_dB', 'co2_emissions_ppm',\n",
      "       'wind_speed_m_s', 'precipitation_mm_h', 'traffic_density_vehicles_h',\n",
      "       'noise_pollution_level_dB', 'anomaly'],\n",
      "      dtype='object')\n"
     ]
    }
   ],
   "source": [
    "# Check the columns in the dataset\n",
    "print(data.columns)\n"
   ]
  },
  {
   "cell_type": "code",
   "execution_count": null,
   "id": "166ab7e4",
   "metadata": {},
   "outputs": [],
   "source": []
  },
  {
   "cell_type": "code",
   "execution_count": 139,
   "id": "f51699b2",
   "metadata": {},
   "outputs": [
    {
     "name": "stdout",
     "output_type": "stream",
     "text": [
      "Training set shape: (48000, 13), Validation set shape: (12000, 13)\n"
     ]
    }
   ],
   "source": [
    "# Rename columns for easier access\n",
    "rename_dict = {\n",
    "    'timestamp': 'TS', 'device_id': 'DID', 'device_type': 'Type', \n",
    "    'uptime_hours': 'UPU', 'battery_capacity_mAh': 'BC', \n",
    "    'energy_consumption_mAh': 'EC', 'temperature_C': 'Temp', \n",
    "    'humidity_percent': 'Hum', 'air_quality_index': 'AQI', \n",
    "    'motion_events': 'ME', 'light_intensity_lux': 'Lux', \n",
    "    'noise_level_dB': 'NL', 'co2_emissions_ppm': 'CO2', \n",
    "    'wind_speed_m_s': 'WS', 'precipitation_mm_h': 'Precip', \n",
    "    'traffic_density_vehicles_h': 'TDV', 'noise_pollution_level_dB': 'NPL', \n",
    "    'anomaly': 'Anom'\n",
    "}\n",
    "data.rename(columns=rename_dict, inplace=True)\n",
    "\n",
    "# Features (input variables) and targets (outputs)\n",
    "features = ['UPU', 'BC', 'Temp', 'Hum', 'AQI', 'ME', 'Lux', 'NL', 'CO2', 'WS', 'Precip', 'TDV', 'NPL']\n",
    "X = data[features]  # Input features\n",
    "y_energy = data['EC']  # Energy consumption target (regression)\n",
    "y_anomaly = data['Anom']  # Anomaly detection target (binary classification)\n",
    "\n",
    "# Split the data into training and validation sets (80%/20%)\n",
    "X_train, X_val, y_train_energy, y_val_energy, y_train_anomaly, y_val_anomaly = train_test_split(\n",
    "    X, y_energy, y_anomaly, test_size=0.2, random_state=42)\n",
    "\n",
    "print(f\"Training set shape: {X_train.shape}, Validation set shape: {X_val.shape}\")\n"
   ]
  },
  {
   "cell_type": "code",
   "execution_count": null,
   "id": "4b5667f8",
   "metadata": {},
   "outputs": [],
   "source": []
  },
  {
   "cell_type": "code",
   "execution_count": 140,
   "id": "5664c74c",
   "metadata": {},
   "outputs": [],
   "source": [
    "# --- Scaling the features ---\n",
    "scaler = MinMaxScaler()\n",
    "X_train_scaled = scaler.fit_transform(X_train)\n",
    "X_val_scaled = scaler.transform(X_val)\n",
    "\n",
    "# Reshape the data for LSTM [samples, timesteps, features]\n",
    "X_train_reshaped = X_train_scaled.reshape((X_train_scaled.shape[0], 1, X_train_scaled.shape[1]))\n",
    "X_val_reshaped = X_val_scaled.reshape((X_val_scaled.shape[0], 1, X_val_scaled.shape[1]))\n"
   ]
  },
  {
   "cell_type": "code",
   "execution_count": null,
   "id": "60cd238c",
   "metadata": {},
   "outputs": [],
   "source": []
  },
  {
   "cell_type": "code",
   "execution_count": 141,
   "id": "ee09889b",
   "metadata": {},
   "outputs": [
    {
     "name": "stdout",
     "output_type": "stream",
     "text": [
      "Model: \"sequential_8\"\n",
      "_________________________________________________________________\n",
      " Layer (type)                Output Shape              Param #   \n",
      "=================================================================\n",
      " lstm_11 (LSTM)              (None, 64)                19968     \n",
      "                                                                 \n",
      " dropout_11 (Dropout)        (None, 64)                0         \n",
      "                                                                 \n",
      " EC_output (Dense)           (None, 1)                 65        \n",
      "                                                                 \n",
      "=================================================================\n",
      "Total params: 20033 (78.25 KB)\n",
      "Trainable params: 20033 (78.25 KB)\n",
      "Non-trainable params: 0 (0.00 Byte)\n",
      "_________________________________________________________________\n"
     ]
    }
   ],
   "source": [
    "# --- Build the LSTM Model for EC (Energy Consumption) ---\n",
    "model = Sequential([\n",
    "    LSTM(64, input_shape=(X_train_reshaped.shape[1], X_train_reshaped.shape[2])),\n",
    "    Dropout(0.3),\n",
    "    Dense(1, name='EC_output')  # Output layer for energy consumption (regression)\n",
    "])\n",
    "\n",
    "# --- Compile the model ---\n",
    "model.compile(optimizer='adam', loss='mean_squared_error', metrics=[r2_score])\n",
    "\n",
    "# Print model summary to check layers\n",
    "model.summary()\n"
   ]
  },
  {
   "cell_type": "code",
   "execution_count": null,
   "id": "c7c23c17",
   "metadata": {},
   "outputs": [],
   "source": []
  },
  {
   "cell_type": "code",
   "execution_count": 143,
   "id": "e00f48d4",
   "metadata": {},
   "outputs": [],
   "source": [
    "from tensorflow.keras import backend as K\n",
    "\n",
    "# Define R² metric function\n",
    "def r2_metric(y_true, y_pred):\n",
    "    ss_res = K.sum(K.square(y_true - y_pred))  # Residual sum of squares\n",
    "    ss_tot = K.sum(K.square(y_true - K.mean(y_true)))  # Total sum of squares\n",
    "    return 1 - ss_res / (ss_tot + K.epsilon())  # R² formula\n"
   ]
  },
  {
   "cell_type": "code",
   "execution_count": null,
   "id": "b24378b5",
   "metadata": {},
   "outputs": [],
   "source": []
  },
  {
   "cell_type": "code",
   "execution_count": 144,
   "id": "0d870ca9",
   "metadata": {},
   "outputs": [],
   "source": [
    "# --- Compile the model for Energy Consumption prediction ---\n",
    "model.compile(\n",
    "    optimizer='adam',\n",
    "    loss='mean_squared_error',  # For regression\n",
    "    metrics=[r2_metric]  # Use the custom R² metric\n",
    ")\n"
   ]
  },
  {
   "cell_type": "code",
   "execution_count": null,
   "id": "ea116ce2",
   "metadata": {},
   "outputs": [],
   "source": []
  },
  {
   "cell_type": "code",
   "execution_count": 145,
   "id": "0d20fa73",
   "metadata": {},
   "outputs": [
    {
     "name": "stdout",
     "output_type": "stream",
     "text": [
      "Epoch 1/50\n",
      "1500/1500 [==============================] - 4s 2ms/step - loss: 32355.9727 - r2_metric: -1.7213 - val_loss: 22410.1035 - val_r2_metric: -0.8997\n",
      "Epoch 2/50\n",
      "1500/1500 [==============================] - 3s 2ms/step - loss: 18236.1914 - r2_metric: -0.5203 - val_loss: 14650.6777 - val_r2_metric: -0.2320\n",
      "Epoch 3/50\n",
      "1500/1500 [==============================] - 3s 2ms/step - loss: 12949.8457 - r2_metric: -0.0743 - val_loss: 8478.8975 - val_r2_metric: 0.2875\n",
      "Epoch 4/50\n",
      "1500/1500 [==============================] - 3s 2ms/step - loss: 5342.6177 - r2_metric: 0.5575 - val_loss: 2818.8306 - val_r2_metric: 0.7648\n",
      "Epoch 5/50\n",
      "1500/1500 [==============================] - 3s 2ms/step - loss: 2220.8298 - r2_metric: 0.8167 - val_loss: 1125.6814 - val_r2_metric: 0.9066\n",
      "Epoch 6/50\n",
      "1500/1500 [==============================] - 3s 2ms/step - loss: 1184.7739 - r2_metric: 0.9019 - val_loss: 449.1791 - val_r2_metric: 0.9628\n",
      "Epoch 7/50\n",
      "1500/1500 [==============================] - 3s 2ms/step - loss: 811.4031 - r2_metric: 0.9323 - val_loss: 210.7310 - val_r2_metric: 0.9825\n",
      "Epoch 8/50\n",
      "1500/1500 [==============================] - 3s 2ms/step - loss: 690.3438 - r2_metric: 0.9420 - val_loss: 131.2327 - val_r2_metric: 0.9891\n",
      "Epoch 9/50\n",
      "1500/1500 [==============================] - 3s 2ms/step - loss: 537.4401 - r2_metric: 0.9549 - val_loss: 91.9419 - val_r2_metric: 0.9924\n",
      "Epoch 10/50\n",
      "1500/1500 [==============================] - 3s 2ms/step - loss: 435.0054 - r2_metric: 0.9635 - val_loss: 54.0737 - val_r2_metric: 0.9955\n",
      "Epoch 11/50\n",
      "1500/1500 [==============================] - 3s 2ms/step - loss: 387.1484 - r2_metric: 0.9673 - val_loss: 46.4690 - val_r2_metric: 0.9961\n",
      "Epoch 12/50\n",
      "1500/1500 [==============================] - 3s 2ms/step - loss: 364.6646 - r2_metric: 0.9692 - val_loss: 35.1594 - val_r2_metric: 0.9971\n",
      "Epoch 13/50\n",
      "1500/1500 [==============================] - 3s 2ms/step - loss: 351.1300 - r2_metric: 0.9705 - val_loss: 23.4720 - val_r2_metric: 0.9981\n",
      "Epoch 14/50\n",
      "1500/1500 [==============================] - 3s 2ms/step - loss: 334.0845 - r2_metric: 0.9718 - val_loss: 19.9280 - val_r2_metric: 0.9984\n",
      "Epoch 15/50\n",
      "1500/1500 [==============================] - 3s 2ms/step - loss: 326.7847 - r2_metric: 0.9723 - val_loss: 18.6452 - val_r2_metric: 0.9985\n",
      "Epoch 16/50\n",
      "1500/1500 [==============================] - 4s 2ms/step - loss: 328.3105 - r2_metric: 0.9723 - val_loss: 16.3819 - val_r2_metric: 0.9986\n",
      "Epoch 17/50\n",
      "1500/1500 [==============================] - 3s 2ms/step - loss: 318.4641 - r2_metric: 0.9731 - val_loss: 17.1148 - val_r2_metric: 0.9986\n",
      "Epoch 18/50\n",
      "1500/1500 [==============================] - 3s 2ms/step - loss: 316.3404 - r2_metric: 0.9732 - val_loss: 18.0161 - val_r2_metric: 0.9985\n",
      "Epoch 19/50\n",
      "1500/1500 [==============================] - 3s 2ms/step - loss: 310.5137 - r2_metric: 0.9738 - val_loss: 14.7779 - val_r2_metric: 0.9988\n",
      "Epoch 20/50\n",
      "1500/1500 [==============================] - 3s 2ms/step - loss: 309.2108 - r2_metric: 0.9739 - val_loss: 11.6988 - val_r2_metric: 0.9990\n",
      "Epoch 21/50\n",
      "1500/1500 [==============================] - 3s 2ms/step - loss: 309.4198 - r2_metric: 0.9738 - val_loss: 12.3253 - val_r2_metric: 0.9990\n",
      "Epoch 22/50\n",
      "1500/1500 [==============================] - 4s 3ms/step - loss: 306.4811 - r2_metric: 0.9742 - val_loss: 11.2534 - val_r2_metric: 0.9991\n",
      "Epoch 23/50\n",
      "1500/1500 [==============================] - 3s 2ms/step - loss: 302.4680 - r2_metric: 0.9744 - val_loss: 9.6326 - val_r2_metric: 0.9992\n",
      "Epoch 24/50\n",
      "1500/1500 [==============================] - 4s 2ms/step - loss: 294.7135 - r2_metric: 0.9752 - val_loss: 12.0380 - val_r2_metric: 0.9990\n",
      "Epoch 25/50\n",
      "1500/1500 [==============================] - 3s 2ms/step - loss: 301.4618 - r2_metric: 0.9746 - val_loss: 8.9023 - val_r2_metric: 0.9993\n",
      "Epoch 26/50\n",
      "1500/1500 [==============================] - 3s 2ms/step - loss: 299.2123 - r2_metric: 0.9748 - val_loss: 10.0459 - val_r2_metric: 0.9992\n",
      "Epoch 27/50\n",
      "1500/1500 [==============================] - 3s 2ms/step - loss: 295.7263 - r2_metric: 0.9750 - val_loss: 10.5890 - val_r2_metric: 0.9991\n",
      "Epoch 28/50\n",
      "1500/1500 [==============================] - 3s 2ms/step - loss: 288.6635 - r2_metric: 0.9757 - val_loss: 9.1330 - val_r2_metric: 0.9992\n",
      "Epoch 29/50\n",
      "1500/1500 [==============================] - 3s 2ms/step - loss: 288.2414 - r2_metric: 0.9757 - val_loss: 10.2196 - val_r2_metric: 0.9991\n",
      "Epoch 30/50\n",
      "1500/1500 [==============================] - 3s 2ms/step - loss: 285.5878 - r2_metric: 0.9760 - val_loss: 7.4232 - val_r2_metric: 0.9994\n",
      "Epoch 31/50\n",
      "1500/1500 [==============================] - 3s 2ms/step - loss: 289.8344 - r2_metric: 0.9756 - val_loss: 8.4929 - val_r2_metric: 0.9993\n",
      "Epoch 32/50\n",
      "1500/1500 [==============================] - 3s 2ms/step - loss: 287.2623 - r2_metric: 0.9758 - val_loss: 7.2644 - val_r2_metric: 0.9994\n",
      "Epoch 33/50\n",
      "1500/1500 [==============================] - 3s 2ms/step - loss: 283.1283 - r2_metric: 0.9761 - val_loss: 11.7240 - val_r2_metric: 0.9990\n",
      "Epoch 34/50\n",
      "1500/1500 [==============================] - 3s 2ms/step - loss: 280.3018 - r2_metric: 0.9763 - val_loss: 5.7446 - val_r2_metric: 0.9995\n",
      "Epoch 35/50\n",
      "1500/1500 [==============================] - 3s 2ms/step - loss: 275.6594 - r2_metric: 0.9768 - val_loss: 8.8407 - val_r2_metric: 0.9993\n",
      "Epoch 36/50\n",
      "1500/1500 [==============================] - 3s 2ms/step - loss: 272.6474 - r2_metric: 0.9770 - val_loss: 8.0148 - val_r2_metric: 0.9993\n",
      "Epoch 37/50\n",
      "1500/1500 [==============================] - 3s 2ms/step - loss: 275.0285 - r2_metric: 0.9769 - val_loss: 5.0464 - val_r2_metric: 0.9996\n",
      "Epoch 38/50\n",
      "1500/1500 [==============================] - 3s 2ms/step - loss: 275.0134 - r2_metric: 0.9769 - val_loss: 15.8511 - val_r2_metric: 0.9987\n",
      "Epoch 39/50\n",
      "1500/1500 [==============================] - 3s 2ms/step - loss: 274.5179 - r2_metric: 0.9768 - val_loss: 8.2742 - val_r2_metric: 0.9993\n",
      "Epoch 40/50\n",
      "1500/1500 [==============================] - 3s 2ms/step - loss: 271.6374 - r2_metric: 0.9770 - val_loss: 6.1093 - val_r2_metric: 0.9995\n",
      "Epoch 41/50\n",
      "1500/1500 [==============================] - 2s 2ms/step - loss: 269.9622 - r2_metric: 0.9772 - val_loss: 7.1737 - val_r2_metric: 0.9994\n",
      "Epoch 42/50\n",
      "1500/1500 [==============================] - 3s 2ms/step - loss: 271.4331 - r2_metric: 0.9771 - val_loss: 7.7530 - val_r2_metric: 0.9993\n",
      "Epoch 43/50\n",
      "1500/1500 [==============================] - 2s 2ms/step - loss: 268.8864 - r2_metric: 0.9773 - val_loss: 5.6581 - val_r2_metric: 0.9995\n",
      "Epoch 44/50\n",
      "1500/1500 [==============================] - 3s 2ms/step - loss: 263.8588 - r2_metric: 0.9778 - val_loss: 6.8825 - val_r2_metric: 0.9994\n",
      "Epoch 45/50\n",
      "1500/1500 [==============================] - 3s 2ms/step - loss: 265.2896 - r2_metric: 0.9777 - val_loss: 3.9731 - val_r2_metric: 0.9997\n",
      "Epoch 46/50\n",
      "1500/1500 [==============================] - 3s 2ms/step - loss: 262.1317 - r2_metric: 0.9779 - val_loss: 10.4308 - val_r2_metric: 0.9991\n",
      "Epoch 47/50\n",
      "1500/1500 [==============================] - 3s 2ms/step - loss: 262.0901 - r2_metric: 0.9780 - val_loss: 4.5387 - val_r2_metric: 0.9996\n",
      "Epoch 48/50\n",
      "1500/1500 [==============================] - 3s 2ms/step - loss: 258.6939 - r2_metric: 0.9782 - val_loss: 7.1890 - val_r2_metric: 0.9994\n",
      "Epoch 49/50\n",
      "1500/1500 [==============================] - 3s 2ms/step - loss: 263.3719 - r2_metric: 0.9779 - val_loss: 3.8940 - val_r2_metric: 0.9997\n",
      "Epoch 50/50\n",
      "1500/1500 [==============================] - 3s 2ms/step - loss: 256.5243 - r2_metric: 0.9783 - val_loss: 4.0929 - val_r2_metric: 0.9997\n"
     ]
    }
   ],
   "source": [
    "history = model.fit(\n",
    "    X_train_reshaped, \n",
    "    y_train_energy,  # Energy Consumption output (EC)\n",
    "    epochs=50, \n",
    "    batch_size=32, \n",
    "    validation_data=(X_val_reshaped, y_val_energy),\n",
    "    verbose=1\n",
    ")\n"
   ]
  },
  {
   "cell_type": "code",
   "execution_count": null,
   "id": "54979869",
   "metadata": {},
   "outputs": [],
   "source": []
  },
  {
   "cell_type": "code",
   "execution_count": 146,
   "id": "3c93f6ff",
   "metadata": {},
   "outputs": [
    {
     "name": "stdout",
     "output_type": "stream",
     "text": [
      "375/375 [==============================] - 1s 954us/step\n",
      "Final EC Metrics:\n",
      "MAE: 1.3290572926712607\n",
      "MSE: 4.0928896780524955\n",
      "RMSE: 2.0230891423890585\n",
      "Training R²: 0.9783332347869873\n",
      "Validation R²: 0.9996631145477295\n"
     ]
    }
   ],
   "source": [
    "# --- Evaluate the model on validation data ---\n",
    "y_pred_energy = model.predict(X_val_reshaped)\n",
    "\n",
    "# Compute the evaluation metrics\n",
    "mae = mean_absolute_error(y_val_energy, y_pred_energy)\n",
    "mse = mean_squared_error(y_val_energy, y_pred_energy)\n",
    "rmse = np.sqrt(mse)\n",
    "\n",
    "# For R², TensorFlow's internal R² is used in the training process\n",
    "train_r2 = history.history['r2_metric'][-1]  # Get the final R² for training\n",
    "val_r2 = history.history['val_r2_metric'][-1]  # Get the final R² for validation\n",
    "\n",
    "# Print final metrics for energy consumption (EC)\n",
    "print(f\"Final EC Metrics:\")\n",
    "print(f\"MAE: {mae}\")\n",
    "print(f\"MSE: {mse}\")\n",
    "print(f\"RMSE: {rmse}\")\n",
    "print(f\"Training R²: {train_r2}\")\n",
    "print(f\"Validation R²: {val_r2}\")\n"
   ]
  },
  {
   "cell_type": "code",
   "execution_count": null,
   "id": "ffba060b",
   "metadata": {},
   "outputs": [],
   "source": []
  },
  {
   "cell_type": "code",
   "execution_count": 158,
   "id": "367ceaa2",
   "metadata": {},
   "outputs": [
    {
     "data": {
      "image/png": "[encoded data removed]",
      "text/plain": [
       "<Figure size 1200x400 with 2 Axes>"
      ]
     },
     "metadata": {},
     "output_type": "display_data"
    }
   ],
   "source": [
    "import matplotlib.pyplot as plt\n",
    "\n",
    "# --- Create a figure with 1 row and 2 columns ---\n",
    "plt.figure(figsize=(12, 4))\n",
    "\n",
    "# --- First Plot: EC - Training and Validation Loss ---\n",
    "plt.subplot(1, 2, 1)  # First subplot (1 row, 2 columns, first plot)\n",
    "plt.plot(history.history['loss'], label='Training Loss')\n",
    "plt.plot(history.history['val_loss'], label='Validation Loss')\n",
    "#plt.title('EC - Training and Validation Loss')\n",
    "plt.xlabel('Epochs')\n",
    "plt.ylabel('Loss')\n",
    "plt.legend()\n",
    "\n",
    "# --- Second Plot: EC - R² Score Across Epochs ---\n",
    "plt.subplot(1, 2, 2)  # Second subplot (1 row, 2 columns, second plot)\n",
    "plt.plot(history.history['r2_metric'], label='Training R²')  # Training R²\n",
    "plt.plot(history.history['val_r2_metric'], label='Validation R²')  # Validation R²\n",
    "# plt.title('EC - R² Score Across Epochs')\n",
    "plt.xlabel('Epochs')\n",
    "plt.ylabel('R²')\n",
    "plt.legend()\n",
    "\n",
    "# --- Adjust layout for better spacing ---\n",
    "plt.tight_layout()\n",
    "\n",
    "# --- Show the plots ---\n",
    "plt.show()\n"
   ]
  },
  {
   "cell_type": "code",
   "execution_count": null,
   "id": "92d5d98b",
   "metadata": {},
   "outputs": [],
   "source": []
  },
  {
   "cell_type": "code",
   "execution_count": 157,
   "id": "371b0a3b",
   "metadata": {},
   "outputs": [
    {
     "name": "stdout",
     "output_type": "stream",
     "text": [
      "Training Loss: 256.5243225097656\n",
      "Validation Loss: 4.092884540557861\n",
      "Training R²: 0.9783332347869873\n",
      "Validation R²: 0.9996631145477295\n"
     ]
    }
   ],
   "source": [
    "# Store the final evaluation results in history\n",
    "history_dict = history.history\n",
    "\n",
    "# Print the final training and validation loss and R² metrics\n",
    "print(f\"Training Loss: {history_dict['loss'][-1]}\")\n",
    "print(f\"Validation Loss: {history_dict['val_loss'][-1]}\")\n",
    "print(f\"Training R²: {history_dict['r2_metric'][-1]}\")\n",
    "print(f\"Validation R²: {history_dict['val_r2_metric'][-1]}\")\n"
   ]
  },
  {
   "cell_type": "code",
   "execution_count": null,
   "id": "5b4df4e7",
   "metadata": {},
   "outputs": [],
   "source": []
  },
  {
   "cell_type": "code",
   "execution_count": null,
   "id": "23baee14",
   "metadata": {},
   "outputs": [],
   "source": []
  },
  {
   "cell_type": "code",
   "execution_count": null,
   "id": "8b25b9d8",
   "metadata": {},
   "outputs": [],
   "source": []
  },
  {
   "cell_type": "code",
   "execution_count": null,
   "id": "d036e813",
   "metadata": {},
   "outputs": [],
   "source": []
  },
  {
   "cell_type": "code",
   "execution_count": null,
   "id": "0f78bf1c",
   "metadata": {},
   "outputs": [],
   "source": []
  }
 ],
 "metadata": {
  "kernelspec": {
   "display_name": "Python 3 (ipykernel)",
   "language": "python",
   "name": "python3"
  },
  "language_info": {
   "codemirror_mode": {
    "name": "ipython",
    "version": 3
   },
   "file_extension": ".py",
   "mimetype": "text/x-python",
   "name": "python",
   "nbconvert_exporter": "python",
   "pygments_lexer": "ipython3",
   "version": "3.11.5"
  }
 },
 "nbformat": 4,
 "nbformat_minor": 5
}
